{
 "cells": [
  {
   "cell_type": "code",
   "execution_count": 1,
   "metadata": {},
   "outputs": [],
   "source": [
    "import pandas as pd\n",
    "import matplotlib.pyplot  as pt"
   ]
  },
  {
   "cell_type": "code",
   "execution_count": 3,
   "metadata": {},
   "outputs": [],
   "source": [
    "dataset=pd.read_csv('C:\\\\Users\\laddh\\Desktop\\disabledvsdumb.csv')"
   ]
  },
  {
   "cell_type": "code",
   "execution_count": 4,
   "metadata": {},
   "outputs": [
    {
     "data": {
      "text/html": [
       "<div>\n",
       "<style scoped>\n",
       "    .dataframe tbody tr th:only-of-type {\n",
       "        vertical-align: middle;\n",
       "    }\n",
       "\n",
       "    .dataframe tbody tr th {\n",
       "        vertical-align: top;\n",
       "    }\n",
       "\n",
       "    .dataframe thead th {\n",
       "        text-align: right;\n",
       "    }\n",
       "</style>\n",
       "<table border=\"1\" class=\"dataframe\">\n",
       "  <thead>\n",
       "    <tr style=\"text-align: right;\">\n",
       "      <th></th>\n",
       "      <th>STATE</th>\n",
       "      <th>TOTAL DISABLED</th>\n",
       "      <th>DEAF</th>\n",
       "      <th>DUMB</th>\n",
       "    </tr>\n",
       "  </thead>\n",
       "  <tbody>\n",
       "    <tr>\n",
       "      <th>0</th>\n",
       "      <td>JAMMU AND KASHMIR</td>\n",
       "      <td>361153</td>\n",
       "      <td>5072914</td>\n",
       "      <td>1998692</td>\n",
       "    </tr>\n",
       "    <tr>\n",
       "      <th>1</th>\n",
       "      <td>HIMACHAL PRADESH</td>\n",
       "      <td>155316</td>\n",
       "      <td>74096</td>\n",
       "      <td>18681</td>\n",
       "    </tr>\n",
       "    <tr>\n",
       "      <th>2</th>\n",
       "      <td>PUNJAB</td>\n",
       "      <td>654063</td>\n",
       "      <td>26700</td>\n",
       "      <td>8278</td>\n",
       "    </tr>\n",
       "    <tr>\n",
       "      <th>3</th>\n",
       "      <td>CHANDIGARH</td>\n",
       "      <td>14796</td>\n",
       "      <td>1466696</td>\n",
       "      <td>961</td>\n",
       "    </tr>\n",
       "    <tr>\n",
       "      <th>4</th>\n",
       "      <td>UTTARKHAND</td>\n",
       "      <td>185272</td>\n",
       "      <td>2475</td>\n",
       "      <td>12348</td>\n",
       "    </tr>\n",
       "    <tr>\n",
       "      <th>5</th>\n",
       "      <td>HARYANA</td>\n",
       "      <td>546374</td>\n",
       "      <td>37681</td>\n",
       "      <td>21787</td>\n",
       "    </tr>\n",
       "    <tr>\n",
       "      <th>6</th>\n",
       "      <td>NCR DELHI</td>\n",
       "      <td>234882</td>\n",
       "      <td>115527</td>\n",
       "      <td>15094</td>\n",
       "    </tr>\n",
       "    <tr>\n",
       "      <th>7</th>\n",
       "      <td>RAJASTHAN</td>\n",
       "      <td>1563694</td>\n",
       "      <td>34499</td>\n",
       "      <td>69484</td>\n",
       "    </tr>\n",
       "    <tr>\n",
       "      <th>8</th>\n",
       "      <td>UTTAR PRADESH</td>\n",
       "      <td>4157514</td>\n",
       "      <td>218873</td>\n",
       "      <td>266586</td>\n",
       "    </tr>\n",
       "    <tr>\n",
       "      <th>9</th>\n",
       "      <td>BIHAR</td>\n",
       "      <td>2331009</td>\n",
       "      <td>572163</td>\n",
       "      <td>170845</td>\n",
       "    </tr>\n",
       "    <tr>\n",
       "      <th>10</th>\n",
       "      <td>SIKKIM</td>\n",
       "      <td>18187</td>\n",
       "      <td>5343</td>\n",
       "      <td>1577</td>\n",
       "    </tr>\n",
       "    <tr>\n",
       "      <th>11</th>\n",
       "      <td>ARUNACHAL PRADESH</td>\n",
       "      <td>26734</td>\n",
       "      <td>8127</td>\n",
       "      <td>1538</td>\n",
       "    </tr>\n",
       "    <tr>\n",
       "      <th>12</th>\n",
       "      <td>NAGALAND</td>\n",
       "      <td>29631</td>\n",
       "      <td>8940</td>\n",
       "      <td>2294</td>\n",
       "    </tr>\n",
       "    <tr>\n",
       "      <th>13</th>\n",
       "      <td>MANIPUR</td>\n",
       "      <td>58547</td>\n",
       "      <td>12891</td>\n",
       "      <td>2661</td>\n",
       "    </tr>\n",
       "    <tr>\n",
       "      <th>14</th>\n",
       "      <td>MIZORAM</td>\n",
       "      <td>15160</td>\n",
       "      <td>3354</td>\n",
       "      <td>1163</td>\n",
       "    </tr>\n",
       "    <tr>\n",
       "      <th>15</th>\n",
       "      <td>TRIPURA</td>\n",
       "      <td>64346</td>\n",
       "      <td>11695</td>\n",
       "      <td>4567</td>\n",
       "    </tr>\n",
       "    <tr>\n",
       "      <th>16</th>\n",
       "      <td>MEGHALAYA</td>\n",
       "      <td>44317</td>\n",
       "      <td>12353</td>\n",
       "      <td>2707</td>\n",
       "    </tr>\n",
       "    <tr>\n",
       "      <th>17</th>\n",
       "      <td>ASSAM</td>\n",
       "      <td>480065</td>\n",
       "      <td>101577</td>\n",
       "      <td>39750</td>\n",
       "    </tr>\n",
       "    <tr>\n",
       "      <th>18</th>\n",
       "      <td>WEST BENGAL</td>\n",
       "      <td>2017406</td>\n",
       "      <td>315192</td>\n",
       "      <td>147336</td>\n",
       "    </tr>\n",
       "    <tr>\n",
       "      <th>19</th>\n",
       "      <td>JHARKHAND</td>\n",
       "      <td>769980</td>\n",
       "      <td>165861</td>\n",
       "      <td>46684</td>\n",
       "    </tr>\n",
       "    <tr>\n",
       "      <th>20</th>\n",
       "      <td>ODISHA</td>\n",
       "      <td>1244402</td>\n",
       "      <td>237858</td>\n",
       "      <td>68517</td>\n",
       "    </tr>\n",
       "    <tr>\n",
       "      <th>21</th>\n",
       "      <td>CHHATTISGARH</td>\n",
       "      <td>624937</td>\n",
       "      <td>92315</td>\n",
       "      <td>28262</td>\n",
       "    </tr>\n",
       "    <tr>\n",
       "      <th>22</th>\n",
       "      <td>MADHYA PRADESH</td>\n",
       "      <td>1551931</td>\n",
       "      <td>267361</td>\n",
       "      <td>669321</td>\n",
       "    </tr>\n",
       "    <tr>\n",
       "      <th>23</th>\n",
       "      <td>GUJRAT</td>\n",
       "      <td>1092302</td>\n",
       "      <td>190675</td>\n",
       "      <td>60332</td>\n",
       "    </tr>\n",
       "    <tr>\n",
       "      <th>24</th>\n",
       "      <td>DAMAN AND DIU</td>\n",
       "      <td>2196</td>\n",
       "      <td>715</td>\n",
       "      <td>149</td>\n",
       "    </tr>\n",
       "    <tr>\n",
       "      <th>25</th>\n",
       "      <td>MAHARASHTRA</td>\n",
       "      <td>2963392</td>\n",
       "      <td>473271</td>\n",
       "      <td>473610</td>\n",
       "    </tr>\n",
       "    <tr>\n",
       "      <th>26</th>\n",
       "      <td>ANDHRA PRADESH</td>\n",
       "      <td>2266607</td>\n",
       "      <td>334292</td>\n",
       "      <td>219543</td>\n",
       "    </tr>\n",
       "    <tr>\n",
       "      <th>27</th>\n",
       "      <td>KARNATAKA</td>\n",
       "      <td>1324205</td>\n",
       "      <td>235691</td>\n",
       "      <td>907741</td>\n",
       "    </tr>\n",
       "    <tr>\n",
       "      <th>28</th>\n",
       "      <td>GOA</td>\n",
       "      <td>33012</td>\n",
       "      <td>5347</td>\n",
       "      <td>5272</td>\n",
       "    </tr>\n",
       "    <tr>\n",
       "      <th>29</th>\n",
       "      <td>LAKSHWADEEP</td>\n",
       "      <td>1615</td>\n",
       "      <td>224</td>\n",
       "      <td>73</td>\n",
       "    </tr>\n",
       "    <tr>\n",
       "      <th>30</th>\n",
       "      <td>KERELA</td>\n",
       "      <td>761843</td>\n",
       "      <td>105366</td>\n",
       "      <td>41346</td>\n",
       "    </tr>\n",
       "    <tr>\n",
       "      <th>31</th>\n",
       "      <td>TAMIL NADU</td>\n",
       "      <td>1179963</td>\n",
       "      <td>220241</td>\n",
       "      <td>80077</td>\n",
       "    </tr>\n",
       "    <tr>\n",
       "      <th>32</th>\n",
       "      <td>PUDUCHERRY</td>\n",
       "      <td>30189</td>\n",
       "      <td>6152</td>\n",
       "      <td>1824</td>\n",
       "    </tr>\n",
       "  </tbody>\n",
       "</table>\n",
       "</div>"
      ],
      "text/plain": [
       "                STATE  TOTAL DISABLED     DEAF     DUMB\n",
       "0   JAMMU AND KASHMIR          361153  5072914  1998692\n",
       "1    HIMACHAL PRADESH          155316    74096    18681\n",
       "2              PUNJAB          654063    26700     8278\n",
       "3          CHANDIGARH           14796  1466696      961\n",
       "4          UTTARKHAND          185272     2475    12348\n",
       "5             HARYANA          546374    37681    21787\n",
       "6           NCR DELHI          234882   115527    15094\n",
       "7           RAJASTHAN         1563694    34499    69484\n",
       "8       UTTAR PRADESH         4157514   218873   266586\n",
       "9               BIHAR         2331009   572163   170845\n",
       "10             SIKKIM           18187     5343     1577\n",
       "11  ARUNACHAL PRADESH           26734     8127     1538\n",
       "12           NAGALAND           29631     8940     2294\n",
       "13            MANIPUR           58547    12891     2661\n",
       "14            MIZORAM           15160     3354     1163\n",
       "15            TRIPURA           64346    11695     4567\n",
       "16          MEGHALAYA           44317    12353     2707\n",
       "17              ASSAM          480065   101577    39750\n",
       "18        WEST BENGAL         2017406   315192   147336\n",
       "19          JHARKHAND          769980   165861    46684\n",
       "20             ODISHA         1244402   237858    68517\n",
       "21       CHHATTISGARH          624937    92315    28262\n",
       "22     MADHYA PRADESH         1551931   267361   669321\n",
       "23             GUJRAT         1092302   190675    60332\n",
       "24      DAMAN AND DIU            2196      715      149\n",
       "25        MAHARASHTRA         2963392   473271   473610\n",
       "26     ANDHRA PRADESH         2266607   334292   219543\n",
       "27          KARNATAKA         1324205   235691   907741\n",
       "28                GOA           33012     5347     5272\n",
       "29        LAKSHWADEEP            1615      224       73\n",
       "30             KERELA          761843   105366    41346\n",
       "31         TAMIL NADU         1179963   220241    80077\n",
       "32         PUDUCHERRY           30189     6152     1824"
      ]
     },
     "execution_count": 4,
     "metadata": {},
     "output_type": "execute_result"
    }
   ],
   "source": [
    "dataset\n"
   ]
  },
  {
   "cell_type": "code",
   "execution_count": 20,
   "metadata": {},
   "outputs": [],
   "source": [
    "deaf=dataset['DEAF'].sum()"
   ]
  },
  {
   "cell_type": "code",
   "execution_count": 21,
   "metadata": {},
   "outputs": [
    {
     "data": {
      "text/plain": [
       "10436465"
      ]
     },
     "execution_count": 21,
     "metadata": {},
     "output_type": "execute_result"
    }
   ],
   "source": [
    "deaf\n"
   ]
  },
  {
   "cell_type": "code",
   "execution_count": 22,
   "metadata": {},
   "outputs": [],
   "source": [
    "dumb=dataset['DUMB'].sum()"
   ]
  },
  {
   "cell_type": "code",
   "execution_count": 23,
   "metadata": {},
   "outputs": [
    {
     "data": {
      "text/plain": [
       "5389100"
      ]
     },
     "execution_count": 23,
     "metadata": {},
     "output_type": "execute_result"
    }
   ],
   "source": [
    "dumb"
   ]
  },
  {
   "cell_type": "code",
   "execution_count": 26,
   "metadata": {},
   "outputs": [],
   "source": [
    "disable=dataset['TOTAL DISABLED'].sum()"
   ]
  },
  {
   "cell_type": "code",
   "execution_count": 27,
   "metadata": {},
   "outputs": [
    {
     "data": {
      "text/plain": [
       "26805040"
      ]
     },
     "execution_count": 27,
     "metadata": {},
     "output_type": "execute_result"
    }
   ],
   "source": [
    "disable"
   ]
  },
  {
   "cell_type": "code",
   "execution_count": 34,
   "metadata": {},
   "outputs": [],
   "source": [
    "dumbper=(dumb/disable)*100"
   ]
  },
  {
   "cell_type": "code",
   "execution_count": 35,
   "metadata": {},
   "outputs": [
    {
     "data": {
      "text/plain": [
       "20.10480118664251"
      ]
     },
     "execution_count": 35,
     "metadata": {},
     "output_type": "execute_result"
    }
   ],
   "source": [
    "dumbper"
   ]
  },
  {
   "cell_type": "code",
   "execution_count": 36,
   "metadata": {},
   "outputs": [],
   "source": [
    "deafper=(deaf/disable)*100"
   ]
  },
  {
   "cell_type": "code",
   "execution_count": 37,
   "metadata": {},
   "outputs": [
    {
     "data": {
      "text/plain": [
       "38.93471153186117"
      ]
     },
     "execution_count": 37,
     "metadata": {},
     "output_type": "execute_result"
    }
   ],
   "source": [
    "deafper"
   ]
  },
  {
   "cell_type": "code",
   "execution_count": 41,
   "metadata": {},
   "outputs": [
    {
     "data": {
      "text/plain": [
       "([<matplotlib.patches.Wedge at 0x7dda9c128>,\n",
       "  <matplotlib.patches.Wedge at 0x7dda9c898>,\n",
       "  <matplotlib.patches.Wedge at 0x7ddaa3048>],\n",
       " [Text(0.273559,1.06544,'other disabled'),\n",
       "  Text(-0.847565,-0.701166,'deaf'),\n",
       "  Text(0.889919,-0.646564,'dump')])"
      ]
     },
     "execution_count": 41,
     "metadata": {},
     "output_type": "execute_result"
    },
    {
     "data": {
      "image/png": "[encoded data removed]",
      "text/plain": [
       "<matplotlib.figure.Figure at 0x7dcf689b0>"
      ]
     },
     "metadata": {},
     "output_type": "display_data"
    }
   ],
   "source": [
    "labels=['other disabled','deaf','dump']\n",
    "values=[42,38,20]\n",
    "pt.pie(values,labels=labels,shadow=True)"
   ]
  },
  {
   "cell_type": "code",
   "execution_count": null,
   "metadata": {},
   "outputs": [],
   "source": []
  },
  {
   "cell_type": "code",
   "execution_count": 5,
   "metadata": {},
   "outputs": [],
   "source": [
    "import seaborn as sns"
   ]
  },
  {
   "cell_type": "code",
   "execution_count": 43,
   "metadata": {},
   "outputs": [
    {
     "data": {
      "text/plain": [
       "<matplotlib.axes._subplots.AxesSubplot at 0x7ddaa3940>"
      ]
     },
     "execution_count": 43,
     "metadata": {},
     "output_type": "execute_result"
    },
    {
     "data": {
      "image/png": "[encoded data removed]",
      "text/plain": [
       "<matplotlib.figure.Figure at 0x7dc018978>"
      ]
     },
     "metadata": {},
     "output_type": "display_data"
    }
   ],
   "source": [
    "sns.barplot(x='TOTAL DISABLED',y='STATE',data=dataset)"
   ]
  },
  {
   "cell_type": "code",
   "execution_count": null,
   "metadata": {},
   "outputs": [],
   "source": []
  },
  {
   "cell_type": "code",
   "execution_count": null,
   "metadata": {},
   "outputs": [],
   "source": []
  }
 ],
 "metadata": {
  "kernelspec": {
   "display_name": "Python 3",
   "language": "python",
   "name": "python3"
  },
  "language_info": {
   "codemirror_mode": {
    "name": "ipython",
    "version": 3
   },
   "file_extension": ".py",
   "mimetype": "text/x-python",
   "name": "python",
   "nbconvert_exporter": "python",
   "pygments_lexer": "ipython3",
   "version": "3.6.4"
  }
 },
 "nbformat": 4,
 "nbformat_minor": 2
}
