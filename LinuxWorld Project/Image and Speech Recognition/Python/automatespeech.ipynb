{
 "cells": [
  {
   "cell_type": "code",
   "execution_count": null,
   "metadata": {},
   "outputs": [],
   "source": [
    "import pyttsx3\n",
    "import speech_recognition as sr\n",
    "import pyaudio"
   ]
  },
  {
   "cell_type": "code",
   "execution_count": null,
   "metadata": {},
   "outputs": [],
   "source": [
    "import webbrowser as wb"
   ]
  },
  {
   "cell_type": "code",
   "execution_count": null,
   "metadata": {},
   "outputs": [],
   "source": [
    "speaker = pyttsx3.init()\n",
    "speaker.say(\"this is a linux world\")\n",
    "speaker.runAndWait()"
   ]
  },
  {
   "cell_type": "code",
   "execution_count": null,
   "metadata": {},
   "outputs": [],
   "source": [
    "mic = sr.Microphone()\n",
    "r = sr.Recognizer()\n",
    "\n",
    "with mic as source:\n",
    "    print(\"say:\")\n",
    "    audio = r.listen(source)\n",
    "    text=r.recognize_google(audio)\n",
    "    print(text)\n",
    "    if \"command\" in text:\n",
    "        print(\"Which command do you want to run\")\n",
    "        speaker.say(\"Which command do you want to run\")\n",
    "        speaker.runAndWait()\n",
    "        print(\"say:\")\n",
    "        audio = r.listen(source)\n",
    "        text=r.recognize_google(audio)\n",
    "        print(text)\n",
    "        if \"cloud\" in text:\n",
    "            print(\"I know you want to setup cloud service\")\n",
    "            speaker.say(\"I know you want to setup cloud service\")\n",
    "            speaker.runAndWait()\n",
    "            speaker.say(\"Wait we are redirecting you\")\n",
    "            speaker.runAndWait()\n",
    "            wb.open_new_tab(\"http://192.168.43.224/cgi-bin/ansible-docker.py\")\n",
    "        elif \"hdfs\" in text:\n",
    "            print(\"I know you want to setup hdfs cluster\")\n",
    "            speaker.say(\"I know you want to setup hdfs cluster\")\n",
    "            speaker.runAndWait()\n",
    "            speaker.say(\"Wait we are redirecting you\")\n",
    "            speaker.runAndWait()\n",
    "            wb.open_new_tab(\"http://192.168.43.205/mr.html\")\n",
    "        elif \"statistics\" in text:\n",
    "            print(\"I know you want to show the statistics\")\n",
    "            speaker.say(\"I know you want to show the statistics\")\n",
    "            speaker.runAndWait()\n",
    "            speaker.say(\"Wait we are redirecting you\")\n",
    "            speaker.runAndWait()\n",
    "            wb.open_new_tab(\"http://localhost:8888/notebooks/maingraph.ipynb\")\n",
    "        elif \"translator\" in text:\n",
    "            print(\"I know you want to setup sign language translator\")\n",
    "            speaker.say(\"I know you want to setup sign language translator\")\n",
    "            speaker.runAndWait()\n",
    "            speaker.say(\"Wait we are redirecting you\")\n",
    "            speaker.runAndWait()\n",
    "            wb.open_new_tab(\"http://localhost:8888/notebooks/signlanguage.ipynb\")\n",
    "           \n",
    "    else:\n",
    "        print(\"I don't have what you want\")\n",
    "        speaker.say(\"I don't have what you want\")\n",
    "        speaker.runAndWait()"
   ]
  },
  {
   "cell_type": "code",
   "execution_count": null,
   "metadata": {},
   "outputs": [],
   "source": []
  }
 ],
 "metadata": {
  "kernelspec": {
   "display_name": "Python 3",
   "language": "python",
   "name": "python3"
  },
  "language_info": {
   "codemirror_mode": {
    "name": "ipython",
    "version": 3
   },
   "file_extension": ".py",
   "mimetype": "text/x-python",
   "name": "python",
   "nbconvert_exporter": "python",
   "pygments_lexer": "ipython3",
   "version": "3.6.4"
  }
 },
 "nbformat": 4,
 "nbformat_minor": 2
}
